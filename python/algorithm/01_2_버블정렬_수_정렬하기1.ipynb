{
 "cells": [
  {
   "cell_type": "markdown",
   "id": "7ef7ec4e-ab3a-467b-b027-507b677fccdc",
   "metadata": {},
   "source": [
    "# 수 정렬하기 1"
   ]
  },
  {
   "cell_type": "markdown",
   "id": "e69dc141-5092-40e9-9413-24447321cadf",
   "metadata": {},
   "source": [
    "## 조건"
   ]
  },
  {
   "cell_type": "markdown",
   "id": "38dddfbd-d8b2-422c-8104-38e5fde7abfe",
   "metadata": {},
   "source": [
    "- 백준 : 2750번\n",
    "- 시간제한 : 2초\n",
    "- 난이도 : 브론즈 1"
   ]
  },
  {
   "cell_type": "markdown",
   "id": "f23ced32-4eef-48d6-ab08-62dd1690bc64",
   "metadata": {},
   "source": [
    "## 문제"
   ]
  },
  {
   "cell_type": "markdown",
   "id": "8d602afc-1a20-4cc8-9f9a-bce650202ebc",
   "metadata": {},
   "source": [
    "N개의 수가 주어졌을 때 오름차순 정렬하시오."
   ]
  },
  {
   "cell_type": "markdown",
   "id": "1b80f8ae-e683-4d44-8ed8-feb282fd5d1b",
   "metadata": {},
   "source": [
    "- 첫번째 줄에 수의 개수 N개 (1 $\\le$ N $\\le$ 1000)를 줌\n",
    "- 두번째 줄부터 N개의 줄에 숫자가 주어진다.\n",
    "- 이 숫자는 1000보다 작거나 갖고 중복은 없다."
   ]
  },
  {
   "cell_type": "markdown",
   "id": "b70f7ab1-e998-4a26-a13a-878f1a3c8044",
   "metadata": {},
   "source": [
    "## pseudo 코드"
   ]
  },
  {
   "cell_type": "markdown",
   "id": "07b40574-c435-4940-bf32-ac7067127344",
   "metadata": {},
   "source": [
    "```python\n",
    "N (정렬할 수 개수)\n",
    "A(수 저장 리스트 선언 및 입력 데이터 저장)\n",
    "\n",
    "for i를 0 ~ N-1만큼 반복:\n",
    "    for j를 0 ~ N-1-i만큼 반복:\n",
    "        현재 A 리스트의 값보다 1칸 오른쪽 리스트의 값이 더 작으면 두 수 바꾸기\n",
    "        \n",
    "A 리스트 출력\n",
    "```"
   ]
  },
  {
   "cell_type": "markdown",
   "id": "8042eced-27ca-4766-a831-2658e01571f6",
   "metadata": {},
   "source": [
    "## 구현"
   ]
  },
  {
   "cell_type": "code",
   "execution_count": 1,
   "id": "3905d33c-efd4-447e-b34a-9c471a40d22b",
   "metadata": {},
   "outputs": [
    {
     "name": "stdin",
     "output_type": "stream",
     "text": [
      " 5\n",
      " 4\n",
      " 2\n",
      " 1\n",
      " 7\n",
      " 6\n"
     ]
    },
    {
     "name": "stdout",
     "output_type": "stream",
     "text": [
      "1\n",
      "2\n",
      "4\n",
      "6\n",
      "7\n"
     ]
    }
   ],
   "source": [
    "N = int(input())\n",
    "A = [0]*N\n",
    "\n",
    "# 값 입력 받기\n",
    "for i in range(N):\n",
    "    A[i] = int(input())\n",
    "    \n",
    "# 정렬 실행\n",
    "for i in range(N-1):\n",
    "    for j in range(N-1-i):\n",
    "        if A[j] > A[j+1]:\n",
    "            temp = A[j+1]\n",
    "            A[j+1] = A[j]\n",
    "            A[j] = temp\n",
    "            \n",
    "for i in range(N):\n",
    "    print(A[i])"
   ]
  }
 ],
 "metadata": {
  "kernelspec": {
   "display_name": "Python3 BASE",
   "language": "python",
   "name": "python3"
  },
  "language_info": {
   "codemirror_mode": {
    "name": "ipython",
    "version": 3
   },
   "file_extension": ".py",
   "mimetype": "text/x-python",
   "name": "python",
   "nbconvert_exporter": "python",
   "pygments_lexer": "ipython3",
   "version": "3.9.12"
  }
 },
 "nbformat": 4,
 "nbformat_minor": 5
}
