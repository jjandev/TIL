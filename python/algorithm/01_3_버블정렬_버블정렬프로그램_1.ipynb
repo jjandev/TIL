{
 "cells": [
  {
   "cell_type": "markdown",
   "id": "3cab65c2-fc32-440c-b3ad-902ab9b4328c",
   "metadata": {},
   "source": [
    "# 버블 정렬 프로그램 1"
   ]
  },
  {
   "cell_type": "markdown",
   "id": "d3453767-ed16-444b-972f-3db52c5375a3",
   "metadata": {},
   "source": [
    "## 조건\n",
    "\n",
    "\n",
    "- 백준 : 1377번\n",
    "- 시간제한 : 2초\n",
    "- 난이도 : 골드 2"
   ]
  },
  {
   "cell_type": "markdown",
   "id": "e0522343-b8a2-48fc-8d31-a913daacf69b",
   "metadata": {},
   "source": [
    "## 문제"
   ]
  },
  {
   "cell_type": "markdown",
   "id": "234bd7cf-2f1c-493f-9098-ed0bb588c329",
   "metadata": {},
   "source": [
    "영식이는 다음과 같은 버블 정렬 프로그램을 C++로 작성했다.\n",
    "```cpp\n",
    "bool change = false;\n",
    "for(int i = 1; i <= n + 1; i++){\n",
    "    change = false;\n",
    "    for(int j = 1; j <= n -i; j++){\n",
    "        if(a[j] > a[j+1]){\n",
    "            change = true;\n",
    "            swap(a[j], a[j+1]);\n",
    "        }\n",
    "    }\n",
    "    if(change == false){\n",
    "        cout << i << '\\n';\n",
    "        break;\n",
    "    }\n",
    "}\n",
    "```"
   ]
  },
  {
   "cell_type": "markdown",
   "id": "68e882e4-2abb-4371-98db-358b04d0656c",
   "metadata": {},
   "source": [
    "위 코드에서 n은 배열의 크기, a는 수가 들어 있는 배열이다. 수는 배열의 1번 방부터 채운다. 위와 같은 코드를 실행시켰을 때 어떤 값이 출력되는지를 구하는 프로그램을 작성하시오."
   ]
  },
  {
   "cell_type": "markdown",
   "id": "62a6cb9d-c6e7-4c1d-8b17-3debdb831c59",
   "metadata": {},
   "source": [
    "- 1번째 줄에는 N이 주어진다.\n",
    "- N은 500,000보다 작서나 같은 자연수다.\n",
    "- 2번째 줄부터 N개의 줄에 A[1]부터 A[N]까지 1개씩 주어진다.\n",
    "- A에 들어 있는 수는 1,000,000보다 작거나 같은 자연수 또는 0이다."
   ]
  },
  {
   "cell_type": "markdown",
   "id": "3167c238-04b4-4ae4-b82c-b2d4ca58f9f8",
   "metadata": {},
   "source": [
    "## 핵심"
   ]
  },
  {
   "cell_type": "markdown",
   "id": "c66fd2f0-d1c4-4882-909e-d5daa26e6ca0",
   "metadata": {},
   "source": [
    "swap이 더 이상 안일어나는 지점을 찾아 강제 종료시켜 복잡도를 줄이는게 핵심이다."
   ]
  },
  {
   "cell_type": "markdown",
   "id": "a46c2e95-bbd5-4379-b99e-a8a93df76e17",
   "metadata": {},
   "source": [
    "## 풀이"
   ]
  },
  {
   "cell_type": "code",
   "execution_count": 5,
   "id": "38cc84ff-a680-4f1f-925b-619dd335a982",
   "metadata": {},
   "outputs": [
    {
     "name": "stdin",
     "output_type": "stream",
     "text": [
      " 5\n",
      " 5\n",
      " 3\n",
      " 1\n",
      " 2\n",
      " 4\n"
     ]
    },
    {
     "name": "stdout",
     "output_type": "stream",
     "text": [
      "1\n",
      "2\n",
      "3\n",
      "5\n",
      "4\n"
     ]
    }
   ],
   "source": [
    "N = int(input())\n",
    "N = 5\n",
    "A = [0]*(N+1)\n",
    "\n",
    "for i in range(1, N+1):\n",
    "    A[i] = int(input())\n",
    "    # print(i)\n",
    "    \n",
    "for i in range(1, N):\n",
    "    swap = True\n",
    "    for j in range(1, N-i):\n",
    "        if A[j] > A[j+1]:\n",
    "            temp = A[j]\n",
    "            A[j] = A[j+1]\n",
    "            A[j+1] = temp\n",
    "            swap = False\n",
    "        if swap == True:\n",
    "            break\n",
    "            \n",
    "for i in range(1, N+1):\n",
    "    print(A[i])"
   ]
  }
 ],
 "metadata": {
  "kernelspec": {
   "display_name": "Python3 BASE",
   "language": "python",
   "name": "python3"
  },
  "language_info": {
   "codemirror_mode": {
    "name": "ipython",
    "version": 3
   },
   "file_extension": ".py",
   "mimetype": "text/x-python",
   "name": "python",
   "nbconvert_exporter": "python",
   "pygments_lexer": "ipython3",
   "version": "3.9.12"
  }
 },
 "nbformat": 4,
 "nbformat_minor": 5
}
